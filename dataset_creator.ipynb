{
 "cells": [
  {
   "cell_type": "code",
   "execution_count": 1,
   "metadata": {},
   "outputs": [],
   "source": [
    "%load_ext autoreload\n",
    "%autoreload 2"
   ]
  },
  {
   "cell_type": "markdown",
   "metadata": {},
   "source": [
    "Create a dataframe with all cut information."
   ]
  },
  {
   "cell_type": "code",
   "execution_count": 2,
   "metadata": {},
   "outputs": [
    {
     "data": {
      "text/html": [
       "<div><style>\n",
       ".dataframe > thead > tr,\n",
       ".dataframe > tbody > tr {\n",
       "  text-align: right;\n",
       "  white-space: pre-wrap;\n",
       "}\n",
       "</style>\n",
       "<small>shape: (5, 10)</small><table border=\"1\" class=\"dataframe\"><thead><tr><th>files</th><th>EPI</th><th>SMP_start</th><th>SMP_stop</th><th>EPI_1</th><th>SMP_start_1</th><th>SMP_stop_1</th><th>EPI_2</th><th>SMP_start_2</th><th>SMP_stop_2</th></tr><tr><td>str</td><td>str</td><td>i32</td><td>i32</td><td>str</td><td>i32</td><td>i32</td><td>str</td><td>i32</td><td>i32</td></tr></thead><tbody><tr><td>&quot;S_1&quot;</td><td>&quot;un&quot;</td><td>1</td><td>11188</td><td>&quot;VF&quot;</td><td>11189</td><td>19352</td><td>&quot;dfb&quot;</td><td>19353</td><td>20192</td></tr><tr><td>&quot;S_1&quot;</td><td>&quot;VF&quot;</td><td>11189</td><td>19352</td><td>&quot;dfb&quot;</td><td>19353</td><td>20192</td><td>&quot;VF&quot;</td><td>20193</td><td>21272</td></tr><tr><td>&quot;S_1&quot;</td><td>&quot;dfb&quot;</td><td>19353</td><td>20192</td><td>&quot;VF&quot;</td><td>20193</td><td>21272</td><td>&quot;AS&quot;</td><td>21273</td><td>22846</td></tr><tr><td>&quot;S_1&quot;</td><td>&quot;VF&quot;</td><td>20193</td><td>21272</td><td>&quot;AS&quot;</td><td>21273</td><td>22846</td><td>&quot;CAS&quot;</td><td>22847</td><td>38680</td></tr><tr><td>&quot;S_1&quot;</td><td>&quot;AS&quot;</td><td>21273</td><td>22846</td><td>&quot;CAS&quot;</td><td>22847</td><td>38680</td><td>&quot;AS&quot;</td><td>38681</td><td>40186</td></tr></tbody></table></div>"
      ],
      "text/plain": [
       "shape: (5, 10)\n",
       "┌───────┬─────┬───────────┬──────────┬───┬────────────┬───────┬─────────────┬────────────┐\n",
       "│ files ┆ EPI ┆ SMP_start ┆ SMP_stop ┆ … ┆ SMP_stop_1 ┆ EPI_2 ┆ SMP_start_2 ┆ SMP_stop_2 │\n",
       "│ ---   ┆ --- ┆ ---       ┆ ---      ┆   ┆ ---        ┆ ---   ┆ ---         ┆ ---        │\n",
       "│ str   ┆ str ┆ i32       ┆ i32      ┆   ┆ i32        ┆ str   ┆ i32         ┆ i32        │\n",
       "╞═══════╪═════╪═══════════╪══════════╪═══╪════════════╪═══════╪═════════════╪════════════╡\n",
       "│ S_1   ┆ un  ┆ 1         ┆ 11188    ┆ … ┆ 19352      ┆ dfb   ┆ 19353       ┆ 20192      │\n",
       "│ S_1   ┆ VF  ┆ 11189     ┆ 19352    ┆ … ┆ 20192      ┆ VF    ┆ 20193       ┆ 21272      │\n",
       "│ S_1   ┆ dfb ┆ 19353     ┆ 20192    ┆ … ┆ 21272      ┆ AS    ┆ 21273       ┆ 22846      │\n",
       "│ S_1   ┆ VF  ┆ 20193     ┆ 21272    ┆ … ┆ 22846      ┆ CAS   ┆ 22847       ┆ 38680      │\n",
       "│ S_1   ┆ AS  ┆ 21273     ┆ 22846    ┆ … ┆ 38680      ┆ AS    ┆ 38681       ┆ 40186      │\n",
       "└───────┴─────┴───────────┴──────────┴───┴────────────┴───────┴─────────────┴────────────┘"
      ]
     },
     "execution_count": 2,
     "metadata": {},
     "output_type": "execute_result"
    }
   ],
   "source": [
    "import os\n",
    "from pathlib import Path\n",
    "\n",
    "import polars as pl\n",
    "import scipy\n",
    "\n",
    "from cci.utils import project_dir\n",
    "\n",
    "DATA_DIR = project_dir() / \"data\"\n",
    "DATA_DIR.mkdir(exist_ok=True)\n",
    "\n",
    "oocha_dir = Path(os.environ[\"OOCHA_DIR\"])\n",
    "arecs = scipy.io.loadmat(oocha_dir / \"arecs.mat\", simplify_cells=True)[\"arecs\"]\n",
    "oohrepr = scipy.io.loadmat(\n",
    "    oocha_dir / \"oohrepr.mat\",\n",
    "    simplify_cells=True,\n",
    ")[\"oohrepr\"]\n",
    "\n",
    "#\n",
    "files = []\n",
    "epi = []\n",
    "smp_start = []\n",
    "smp_stop = []\n",
    "for f, x, y in zip(arecs, oohrepr[\"EPI\"], oohrepr[\"SMP\"]):\n",
    "    if isinstance(x, str):\n",
    "        continue\n",
    "    for j, k in zip(x, y):\n",
    "        files.append(f)\n",
    "        epi.append(j)  # .upper()  # The original file uses both upper and lower case.\n",
    "        # Lower for noisy signal i think\n",
    "        smp_start.append(k[0])\n",
    "        smp_stop.append(k[1])\n",
    "\n",
    "original_df = (\n",
    "    pl.LazyFrame(\n",
    "        {\n",
    "            \"files\": files,\n",
    "            \"EPI\": epi,\n",
    "            \"SMP_start\": smp_start,\n",
    "            \"SMP_stop\": smp_stop,\n",
    "        }\n",
    "    )\n",
    "    .filter(pl.col(\"files\").is_not_null())\n",
    "    .with_columns(\n",
    "        pl.col(\"EPI\").shift(-1).alias(\"EPI_1\"),\n",
    "        pl.col(\"SMP_start\").shift(-1).alias(\"SMP_start_1\"),\n",
    "        pl.col(\"SMP_stop\").shift(-1).alias(\"SMP_stop_1\"),\n",
    "        pl.col(\"EPI\").shift(-2).alias(\"EPI_2\"),\n",
    "        pl.col(\"SMP_start\").shift(-2).alias(\"SMP_start_2\"),\n",
    "        pl.col(\"SMP_stop\").shift(-2).alias(\"SMP_stop_2\"),\n",
    "    )\n",
    "    .collect()\n",
    ")\n",
    "\n",
    "original_df.write_csv(DATA_DIR / \"original.csv\")\n",
    "original_df.head()"
   ]
  },
  {
   "cell_type": "markdown",
   "metadata": {},
   "source": [
    "# Min sample length"
   ]
  },
  {
   "cell_type": "code",
   "execution_count": 3,
   "metadata": {},
   "outputs": [
    {
     "name": "stdout",
     "output_type": "stream",
     "text": [
      "23182\n",
      "19532\n"
     ]
    }
   ],
   "source": [
    "df = original_df.filter((pl.col(\"SMP_stop\") - pl.col(\"SMP_start\")) > 1500)\n",
    "\n",
    "print(len(original_df))\n",
    "print(len(df))"
   ]
  },
  {
   "cell_type": "code",
   "execution_count": 4,
   "metadata": {},
   "outputs": [],
   "source": [
    "def classify_class_label(df, next_epi: int):\n",
    "    \"\"\"Class 0 good, class 1 bad\n",
    "    next_epi: 1 for EPI_1, 2 for EPI_2\n",
    "    Desired:\n",
    "    VF/VT -> PR\n",
    "    AS -> PR / VF / VT\n",
    "    PE -> PR\n",
    "    PR -> sROSC TODO:\n",
    "    \"\"\"\n",
    "    class_label = []\n",
    "    for epi, next_epi in df.select([\"EPI\", f\"EPI_{next_epi}\"]).rows():\n",
    "        match epi:\n",
    "            case \"AS\":\n",
    "                if next_epi in [\"VF\", \"VT\", \"PR\"]:\n",
    "                    class_label.append(0)\n",
    "                else:\n",
    "                    class_label.append(1)\n",
    "            case \"VF\":\n",
    "                if next_epi in [\"PR\"]:\n",
    "                    class_label.append(0)\n",
    "                else:\n",
    "                    class_label.append(1)\n",
    "            case \"VT\":\n",
    "                if next_epi in [\"PR\"]:\n",
    "                    class_label.append(0)\n",
    "                else:\n",
    "                    class_label.append(1)\n",
    "            case \"PE\":\n",
    "                if next_epi in [\"PR\"]:\n",
    "                    class_label.append(0)\n",
    "                else:\n",
    "                    class_label.append(1)\n",
    "            case \"PR\":\n",
    "                class_label.append(1)\n",
    "    return class_label"
   ]
  },
  {
   "cell_type": "markdown",
   "metadata": {},
   "source": [
    "# Clean DF"
   ]
  },
  {
   "cell_type": "code",
   "execution_count": 5,
   "metadata": {},
   "outputs": [],
   "source": [
    "clean_labels = [\"AS\", \"VF\", \"VT\", \"PE\", \"PR\"]\n",
    "clean_df = df.filter(\n",
    "    pl.col(\"EPI\").is_in(clean_labels),\n",
    "    pl.col(\"SMP_start_1\") != 1,\n",
    "    pl.col(\"EPI_1\").is_in(clean_labels),\n",
    ")\n",
    "class_label = classify_class_label(clean_df, 1)\n",
    "\n",
    "clean_df = clean_df.hstack([pl.Series(\"Class Label\", class_label)])\n",
    "clean_df.head(20)\n",
    "clean_df.write_csv(DATA_DIR / \"clean_df.csv\")"
   ]
  },
  {
   "cell_type": "markdown",
   "metadata": {},
   "source": [
    "# Clean DFB DF"
   ]
  },
  {
   "cell_type": "code",
   "execution_count": 6,
   "metadata": {},
   "outputs": [],
   "source": [
    "clean_labels = [\"AS\", \"VF\", \"VT\", \"PE\", \"PR\"]\n",
    "clean_dfb_df = df.filter(\n",
    "    pl.col(\"EPI\").is_in(clean_labels),\n",
    "    pl.col(\"SMP_start_1\") != 1,\n",
    "    pl.col(\"SMP_start_2\") != 1,\n",
    "    pl.col(\"EPI_1\") == \"dfb\",\n",
    "    pl.col(\"EPI_2\").is_in(clean_labels),\n",
    ")\n",
    "class_label = classify_class_label(clean_dfb_df, 2)\n",
    "clean_dfb_df = clean_dfb_df.hstack([pl.Series(\"Class Label\", class_label)])\n",
    "clean_dfb_df.head()\n",
    "clean_dfb_df.write_csv(DATA_DIR / \"clean_df_dfb.csv\")"
   ]
  },
  {
   "cell_type": "code",
   "execution_count": 7,
   "metadata": {},
   "outputs": [
    {
     "data": {
      "text/html": [
       "<div><style>\n",
       ".dataframe > thead > tr,\n",
       ".dataframe > tbody > tr {\n",
       "  text-align: right;\n",
       "  white-space: pre-wrap;\n",
       "}\n",
       "</style>\n",
       "<small>shape: (1, 2)</small><table border=\"1\" class=\"dataframe\"><thead><tr><th>Class Label</th><th>count</th></tr><tr><td>i64</td><td>u32</td></tr></thead><tbody><tr><td>1</td><td>941</td></tr></tbody></table></div>"
      ],
      "text/plain": [
       "shape: (1, 2)\n",
       "┌─────────────┬───────┐\n",
       "│ Class Label ┆ count │\n",
       "│ ---         ┆ ---   │\n",
       "│ i64         ┆ u32   │\n",
       "╞═════════════╪═══════╡\n",
       "│ 1           ┆ 941   │\n",
       "└─────────────┴───────┘"
      ]
     },
     "execution_count": 7,
     "metadata": {},
     "output_type": "execute_result"
    }
   ],
   "source": [
    "clean_dfb_df.select(\"Class Label\").to_series().value_counts()"
   ]
  },
  {
   "cell_type": "code",
   "execution_count": 8,
   "metadata": {},
   "outputs": [],
   "source": [
    "original_df.filter(pl.col(\"EPI_1\") == \"dfb\").write_csv(DATA_DIR / \"original_dfb.csv\")"
   ]
  },
  {
   "cell_type": "markdown",
   "metadata": {},
   "source": [
    "# Dataset V2\n",
    "\n",
    "## Alle fra samme episode legges i samme subfold for å unngå krysskontaminering.\n",
    "## rytme1 -> dfb -> rytme1 ->\n",
    "S_1,VF,11189,19352,dfb,19353,20192,VF,20193,21272\n",
    "S_1,dfb,19353,20192,VF,20193,21272,AS,21273,22846\n",
    "S_1,VF,20193,21272,AS,21273,22846,CAS,22847,38680\n",
    "S_1,AS,21273,22846,CAS,22847,38680,AS,38681,40186\n",
    "\n",
    "VF -> AS hvis kort nok tid etter dfb\n",
    "og kall de: DVF\n",
    "HVF\n",
    "HAS\n",
    "\n",
    "spontan vs defb"
   ]
  },
  {
   "cell_type": "code",
   "execution_count": 1,
   "metadata": {},
   "outputs": [],
   "source": [
    "import os\n",
    "from pathlib import Path\n",
    "\n",
    "import numpy as np\n",
    "import polars as pl\n",
    "import scipy\n",
    "\n",
    "from cci.utils import project_dir\n",
    "\n",
    "DATASET_FOLDER = project_dir() / \"data\"\n",
    "DATASET_FOLDER.mkdir(exist_ok=True)\n",
    "OOCHA_DIR = Path(os.environ[\"OOCHA_DIR\"])"
   ]
  },
  {
   "cell_type": "code",
   "execution_count": 2,
   "metadata": {},
   "outputs": [],
   "source": [
    "arecs = scipy.io.loadmat(OOCHA_DIR / \"arecs.mat\", simplify_cells=True)[\"arecs\"]\n",
    "oohca_info = scipy.io.loadmat(OOCHA_DIR / \"oohrepr.mat\", simplify_cells=True)[\"oohrepr\"]\n",
    "\n",
    "\n",
    "def replace_object(x):\n",
    "    return [[y] if isinstance(y, str) else y.tolist() for y in x]\n",
    "\n",
    "\n",
    "for k, v in oohca_info.items():\n",
    "    oohca_info[k] = replace_object(v)\n",
    "oohca_info.update({\"file\": arecs})"
   ]
  },
  {
   "cell_type": "code",
   "execution_count": 3,
   "metadata": {},
   "outputs": [],
   "source": [
    "# Collect values\n",
    "df = (\n",
    "    pl.LazyFrame(\n",
    "        {key: oohca_info[key] for key in [\"file\", \"EPI\", \"SMP\"]},\n",
    "    )\n",
    "    .filter(\n",
    "        pl.col(\"file\").is_not_null(),  # Some of the entries are missing filename\n",
    "        # Remove rows where these are different (rows with 1 rythm)\n",
    "        pl.col(\"EPI\").list.eval(pl.element().len()) == pl.col(\"SMP\").list.eval(pl.element().len()),\n",
    "    )\n",
    "    .explode(\"EPI\", \"SMP\")\n",
    "    .with_columns(\n",
    "        # Extract start/stop\n",
    "        pl.col(\"SMP\").list.to_struct(\n",
    "            fields=[\"Start\", \"Stop\"],\n",
    "        ),\n",
    "    )\n",
    "    .unnest(\"SMP\")\n",
    ")\n",
    "\n",
    "\n",
    "# Annotate\n",
    "def annotate_hands_off(epi: str) -> str:\n",
    "    \"\"\"Hands off AS -> HAS\"\"\"\n",
    "    mappings = {\n",
    "        \"AS\": \"HAS\",\n",
    "        \"pr\": \"hpr\",\n",
    "        \"VF\": \"HVF\",\n",
    "        \"PR\": \"HPR\",\n",
    "        \"as\": \"has\",\n",
    "        \"vf\": \"hvf\",\n",
    "        \"pe\": \"hpe\",\n",
    "        \"VT\": \"HVT\",\n",
    "        \"PE\": \"HPE\",\n",
    "        \"vt\": \"hvt\",\n",
    "        \"un\": \"hun\",\n",
    "    }\n",
    "    return mappings.get(epi, epi)\n",
    "\n",
    "\n",
    "def map_dfb(vals: pl.Struct) -> str:\n",
    "    \"\"\"VT -> dfb -> VT => VT -> DVT -> VT\"\"\"\n",
    "    prev = vals[\"epi_-1\"]\n",
    "    current = vals[\"epi_0\"]\n",
    "    next = vals[\"epi_1\"]\n",
    "    if current == \"dfb\" and prev == next:\n",
    "        return f\"D{prev}\"\n",
    "    else:\n",
    "        return current\n",
    "\n",
    "\n",
    "# Annotate 'dfb' with corresponding rythm\n",
    "\n",
    "df = (\n",
    "    df.with_columns(\n",
    "        [pl.col(\"EPI\").shift(-i).alias(f\"epi_{i}\") for i in range(-1, 2)],\n",
    "    )\n",
    "    .with_columns(pl.struct([\"epi_-1\", \"epi_0\", \"epi_1\"]).map_elements(map_dfb).alias(\"EPI\"))\n",
    "    .with_columns(pl.col(\"EPI\").map_elements(annotate_hands_off))\n",
    "    # BUG\n",
    "    # .drop(\n",
    "    #     [f\"epi_{i}\" for i in range(-1, 2)],\n",
    "    # )\n",
    ")\n",
    "\n",
    "# Collect and save\n",
    "# BUG:?? Have to drop here or Start and Stop also gets dropped....\n",
    "df = df.collect().drop(\n",
    "    [f\"epi_{i}\" for i in range(-1, 2)],\n",
    ")\n",
    "df.write_csv(DATASET_FOLDER / \"full.csv\")"
   ]
  },
  {
   "cell_type": "code",
   "execution_count": 4,
   "metadata": {},
   "outputs": [],
   "source": [
    "def dfb_df(full_df: pl.DataFrame) -> pl.DataFrame:\n",
    "    # Filter so we have rhytm -> D(fb)rythm -> rythm -> transition\n",
    "    df = (\n",
    "        full_df.with_columns(\n",
    "            [pl.col(\"EPI\").shift(-i).alias(f\"epi{i}\") for i in range(1, 4)],\n",
    "        )\n",
    "        .with_columns(\n",
    "            [pl.col(\"Start\").shift(-i).alias(f\"start{i}\") for i in range(1, 4)],\n",
    "        )\n",
    "        .with_columns(\n",
    "            [pl.col(\"Stop\").shift(-i).alias(f\"stop{i}\") for i in range(1, 4)],\n",
    "        )\n",
    "        .filter(pl.col(\"epi1\").str.starts_with(\"D\"))\n",
    "    )\n",
    "    # Filter when occuring at end of file\n",
    "    df = df.filter(pl.min_horizontal(pl.col(\"start1\"), pl.col(\"start2\"), pl.col(\"start3\")) != 1)\n",
    "    return df\n",
    "\n",
    "\n",
    "dfb_df(df).write_csv(DATASET_FOLDER / \"dfb_full.csv\")"
   ]
  },
  {
   "cell_type": "code",
   "execution_count": 5,
   "metadata": {},
   "outputs": [
    {
     "data": {
      "text/html": [
       "<div><style>\n",
       ".dataframe > thead > tr,\n",
       ".dataframe > tbody > tr {\n",
       "  text-align: right;\n",
       "  white-space: pre-wrap;\n",
       "}\n",
       "</style>\n",
       "<small>shape: (480, 13)</small><table border=\"1\" class=\"dataframe\"><thead><tr><th>file</th><th>EPI</th><th>Start</th><th>Stop</th><th>epi1</th><th>epi2</th><th>epi3</th><th>start1</th><th>start2</th><th>start3</th><th>stop1</th><th>stop2</th><th>stop3</th></tr><tr><td>str</td><td>str</td><td>i64</td><td>i64</td><td>str</td><td>str</td><td>str</td><td>i64</td><td>i64</td><td>i64</td><td>i64</td><td>i64</td><td>i64</td></tr></thead><tbody><tr><td>&quot;S_1&quot;</td><td>&quot;HVF&quot;</td><td>87942</td><td>98341</td><td>&quot;DVF&quot;</td><td>&quot;HVF&quot;</td><td>&quot;HAS&quot;</td><td>98342</td><td>99183</td><td>99798</td><td>99182</td><td>99797</td><td>110361</td></tr><tr><td>&quot;S_1&quot;</td><td>&quot;HVF&quot;</td><td>216520</td><td>224252</td><td>&quot;DVF&quot;</td><td>&quot;HVF&quot;</td><td>&quot;HAS&quot;</td><td>224253</td><td>225093</td><td>225846</td><td>225092</td><td>225845</td><td>233027</td></tr><tr><td>&quot;S_1&quot;</td><td>&quot;HVF&quot;</td><td>311663</td><td>324771</td><td>&quot;DVF&quot;</td><td>&quot;HVF&quot;</td><td>&quot;HAS&quot;</td><td>324772</td><td>325613</td><td>326261</td><td>325612</td><td>326260</td><td>336096</td></tr><tr><td>&quot;a_2&quot;</td><td>&quot;HVF&quot;</td><td>81103</td><td>88484</td><td>&quot;DVF&quot;</td><td>&quot;HVF&quot;</td><td>&quot;HPE&quot;</td><td>88485</td><td>89326</td><td>89910</td><td>89325</td><td>89909</td><td>93133</td></tr><tr><td>&quot;a_2&quot;</td><td>&quot;HVF&quot;</td><td>422639</td><td>428891</td><td>&quot;DVF&quot;</td><td>&quot;HVF&quot;</td><td>&quot;HPE&quot;</td><td>428892</td><td>429736</td><td>430615</td><td>429735</td><td>430614</td><td>433345</td></tr><tr><td>&hellip;</td><td>&hellip;</td><td>&hellip;</td><td>&hellip;</td><td>&hellip;</td><td>&hellip;</td><td>&hellip;</td><td>&hellip;</td><td>&hellip;</td><td>&hellip;</td><td>&hellip;</td><td>&hellip;</td><td>&hellip;</td></tr><tr><td>&quot;s_375&quot;</td><td>&quot;HVF&quot;</td><td>335895</td><td>360975</td><td>&quot;DVF&quot;</td><td>&quot;HVF&quot;</td><td>&quot;HAS&quot;</td><td>360976</td><td>361817</td><td>362594</td><td>361816</td><td>362593</td><td>370340</td></tr><tr><td>&quot;s_381&quot;</td><td>&quot;HVF&quot;</td><td>497504</td><td>505394</td><td>&quot;DVF&quot;</td><td>&quot;HVF&quot;</td><td>&quot;HPE&quot;</td><td>505395</td><td>506219</td><td>506877</td><td>506218</td><td>506876</td><td>537259</td></tr><tr><td>&quot;s_382&quot;</td><td>&quot;HVF&quot;</td><td>120088</td><td>132475</td><td>&quot;DVF&quot;</td><td>&quot;HVF&quot;</td><td>&quot;HAS&quot;</td><td>132476</td><td>133301</td><td>134029</td><td>133300</td><td>134028</td><td>153908</td></tr><tr><td>&quot;s_387&quot;</td><td>&quot;HVF&quot;</td><td>437556</td><td>447422</td><td>&quot;DVF&quot;</td><td>&quot;HVF&quot;</td><td>&quot;HPE&quot;</td><td>447423</td><td>448246</td><td>449017</td><td>448245</td><td>449016</td><td>464622</td></tr><tr><td>&quot;s_390&quot;</td><td>&quot;HVF&quot;</td><td>633627</td><td>645873</td><td>&quot;DVF&quot;</td><td>&quot;HVF&quot;</td><td>&quot;HAS&quot;</td><td>645874</td><td>646714</td><td>647455</td><td>646713</td><td>647454</td><td>656529</td></tr></tbody></table></div>"
      ],
      "text/plain": [
       "shape: (480, 13)\n",
       "┌───────┬─────┬────────┬────────┬───┬────────┬────────┬────────┬────────┐\n",
       "│ file  ┆ EPI ┆ Start  ┆ Stop   ┆ … ┆ start3 ┆ stop1  ┆ stop2  ┆ stop3  │\n",
       "│ ---   ┆ --- ┆ ---    ┆ ---    ┆   ┆ ---    ┆ ---    ┆ ---    ┆ ---    │\n",
       "│ str   ┆ str ┆ i64    ┆ i64    ┆   ┆ i64    ┆ i64    ┆ i64    ┆ i64    │\n",
       "╞═══════╪═════╪════════╪════════╪═══╪════════╪════════╪════════╪════════╡\n",
       "│ S_1   ┆ HVF ┆ 87942  ┆ 98341  ┆ … ┆ 99798  ┆ 99182  ┆ 99797  ┆ 110361 │\n",
       "│ S_1   ┆ HVF ┆ 216520 ┆ 224252 ┆ … ┆ 225846 ┆ 225092 ┆ 225845 ┆ 233027 │\n",
       "│ S_1   ┆ HVF ┆ 311663 ┆ 324771 ┆ … ┆ 326261 ┆ 325612 ┆ 326260 ┆ 336096 │\n",
       "│ a_2   ┆ HVF ┆ 81103  ┆ 88484  ┆ … ┆ 89910  ┆ 89325  ┆ 89909  ┆ 93133  │\n",
       "│ a_2   ┆ HVF ┆ 422639 ┆ 428891 ┆ … ┆ 430615 ┆ 429735 ┆ 430614 ┆ 433345 │\n",
       "│ …     ┆ …   ┆ …      ┆ …      ┆ … ┆ …      ┆ …      ┆ …      ┆ …      │\n",
       "│ s_375 ┆ HVF ┆ 335895 ┆ 360975 ┆ … ┆ 362594 ┆ 361816 ┆ 362593 ┆ 370340 │\n",
       "│ s_381 ┆ HVF ┆ 497504 ┆ 505394 ┆ … ┆ 506877 ┆ 506218 ┆ 506876 ┆ 537259 │\n",
       "│ s_382 ┆ HVF ┆ 120088 ┆ 132475 ┆ … ┆ 134029 ┆ 133300 ┆ 134028 ┆ 153908 │\n",
       "│ s_387 ┆ HVF ┆ 437556 ┆ 447422 ┆ … ┆ 449017 ┆ 448245 ┆ 449016 ┆ 464622 │\n",
       "│ s_390 ┆ HVF ┆ 633627 ┆ 645873 ┆ … ┆ 647455 ┆ 646713 ┆ 647454 ┆ 656529 │\n",
       "└───────┴─────┴────────┴────────┴───┴────────┴────────┴────────┴────────┘"
      ]
     },
     "execution_count": 5,
     "metadata": {},
     "output_type": "execute_result"
    }
   ],
   "source": [
    "dfb_df = pl.read_csv(DATASET_FOLDER / \"dfb_full.csv\")\n",
    "# Filter every transition occurence that happens before 2 seconds after dfb\n",
    "dfb_df.filter(pl.col(\"start3\") - pl.col(\"start2\") < 1000)"
   ]
  },
  {
   "cell_type": "code",
   "execution_count": 6,
   "metadata": {},
   "outputs": [],
   "source": [
    "# http://vrl.cs.brown.edu/color\n",
    "\n",
    "color = {\n",
    "    \"HAS\": [82, 239, 153],\n",
    "    \"HVT\": [17, 94, 65],\n",
    "    \"HVF\": [148, 210, 207],\n",
    "    \"HPE\": [44, 69, 125],\n",
    "    \"HPR\": [209, 121, 248],\n",
    "    \"DAS\": [153, 28, 100],\n",
    "    \"DVF\": [172, 130, 180],\n",
    "    \"DVT\": [102, 51, 180],\n",
    "    \"DPE\": [238, 200, 241],\n",
    "    \"DPR\": [41, 140, 192],\n",
    "    \"CAS\": [183, 209, 101],\n",
    "    \"CVT\": [58, 166, 9],\n",
    "    \"CVF\": [44, 245, 43],\n",
    "    \"CPE\": [93, 64, 48],\n",
    "    \"CPR\": [254, 183, 134],\n",
    "    \"cas\": [177, 75, 50],\n",
    "    \"cvt\": [251, 45, 76],\n",
    "    \"cvf\": [251, 189, 19],\n",
    "    \"cpe\": [116, 141, 19],\n",
    "    \"cpr\": [37, 128, 254],\n",
    "    \"hun\": [246, 18, 168],\n",
    "    \"cun\": [194, 24, 241],\n",
    "    \"dfb\": [160, 127, 61],\n",
    "}"
   ]
  },
  {
   "cell_type": "code",
   "execution_count": 7,
   "metadata": {},
   "outputs": [],
   "source": [
    "import functools\n",
    "from pathlib import Path\n",
    "\n",
    "\n",
    "@functools.lru_cache(maxsize=4)\n",
    "def get_signal(signal_path: Path):\n",
    "    return scipy.io.loadmat(\n",
    "        signal_path,\n",
    "        simplify_cells=True,\n",
    "    )[\"SIGNALS\"][\"ecg_diff\"].astype(np.float32)"
   ]
  },
  {
   "cell_type": "code",
   "execution_count": 37,
   "metadata": {},
   "outputs": [
    {
     "name": "stderr",
     "output_type": "stream",
     "text": [
      "[2024-03-22T18:13:18Z WARN  re_sdk::log_sink] Dropping data in BufferedSink\n",
      "[2024-03-22T18:13:18Z INFO  egui_wgpu] There were 2 available wgpu adapters: {backend: Vulkan, device_type: DiscreteGpu, name: \"AMD Radeon RX 5700 XT (RADV NAVI10)\", driver: \"radv\", driver_info: \"Mesa 23.3.6\", vendor: 0x1002, device: 0x731F}, {backend: Vulkan, device_type: Cpu, name: \"llvmpipe (LLVM 17.0.6, 256 bits)\", driver: \"llvmpipe\", driver_info: \"Mesa 23.3.6 (LLVM 17.0.6)\", vendor: 0x10005}\n",
      "[2024-03-22T18:13:18Z INFO  tracing::span] perform;\n",
      "[2024-03-22T18:13:18Z INFO  zbus::handshake] write_command; command=Auth(Some(External), Some([49, 48, 48, 48]))\n",
      "[2024-03-22T18:13:18Z INFO  tracing::span] read_command;\n",
      "[2024-03-22T18:13:18Z INFO  zbus::handshake] write_command; command=NegotiateUnixFD\n",
      "[2024-03-22T18:13:18Z INFO  tracing::span] read_command;\n",
      "[2024-03-22T18:13:18Z INFO  zbus::handshake] write_command; command=Begin\n",
      "[2024-03-22T18:13:18Z INFO  tracing::span] socket reader;\n",
      "[2024-03-22T18:13:18Z INFO  tracing::span] perform;\n",
      "[2024-03-22T18:13:18Z INFO  zbus::handshake] write_command; command=Auth(Some(External), Some([49, 48, 48, 48]))\n",
      "[2024-03-22T18:13:18Z INFO  tracing::span] read_command;\n",
      "[2024-03-22T18:13:18Z INFO  zbus::handshake] write_command; command=NegotiateUnixFD\n",
      "[2024-03-22T18:13:18Z INFO  tracing::span] read_command;\n",
      "[2024-03-22T18:13:18Z INFO  zbus::handshake] write_command; command=Begin\n",
      "[2024-03-22T18:13:18Z INFO  tracing::span] socket reader;\n",
      "[2024-03-22T18:13:18Z INFO  zbus::connection] {}; obj_server_task_name=\"ObjectServer task\"\n",
      "[2024-03-22T18:13:18Z INFO  zbus::object_server] dispatch_message; msg=Msg { type: MethodCall, sender: UniqueName(Str(Borrowed(\":1.1\"))), path: ObjectPath(\"/org/a11y/atspi/accessible/root\"), iface: InterfaceName(Str(Borrowed(\"org.freedesktop.DBus.Properties\"))), member: MemberName(Str(Borrowed(\"Set\"))), body: Signature(\"ssv\") }\n",
      "[2024-03-22T18:13:18Z INFO  zbus::object_server] dispatch_method_call; msg=Msg { type: MethodCall, sender: UniqueName(Str(Borrowed(\":1.1\"))), path: ObjectPath(\"/org/a11y/atspi/accessible/root\"), iface: InterfaceName(Str(Borrowed(\"org.freedesktop.DBus.Properties\"))), member: MemberName(Str(Borrowed(\"Set\"))), body: Signature(\"ssv\") }\n",
      "[2024-03-22T18:13:18Z INFO  zbus::object_server] dispatch_method_call_try; msg=Msg { type: MethodCall, sender: UniqueName(Str(Borrowed(\":1.1\"))), path: ObjectPath(\"/org/a11y/atspi/accessible/root\"), iface: InterfaceName(Str(Borrowed(\"org.freedesktop.DBus.Properties\"))), member: MemberName(Str(Borrowed(\"Set\"))), body: Signature(\"ssv\") }\n"
     ]
    }
   ],
   "source": [
    "import rerun as rr\n",
    "from rerun.blueprint import (\n",
    "    Blueprint,\n",
    "    BlueprintPanel,\n",
    "    Grid,\n",
    "    SelectionPanel,\n",
    "    Spatial2DView,\n",
    "    TimePanel,\n",
    "    TimeSeriesView,\n",
    "    Viewport,\n",
    ")\n",
    "\n",
    "blueprint = Blueprint(\n",
    "    Viewport(\n",
    "        TimeSeriesView(\n",
    "            name=\"ECG\",\n",
    "        )\n",
    "    ),\n",
    "    BlueprintPanel(expanded=False),\n",
    "    SelectionPanel(expanded=False),\n",
    "    TimePanel(expanded=False),\n",
    ")\n",
    "rr.init(\"dfb_viewer\", spawn=True, blueprint=blueprint)"
   ]
  },
  {
   "cell_type": "code",
   "execution_count": 38,
   "metadata": {},
   "outputs": [],
   "source": [
    "iterator = iter(\n",
    "    dfb_df.select(\n",
    "        [\n",
    "            \"file\",\n",
    "            \"EPI\",\n",
    "            \"epi1\",\n",
    "            \"epi2\",\n",
    "            \"epi3\",\n",
    "            \"Start\",\n",
    "            \"start1\",\n",
    "            \"start2\",\n",
    "            \"start3\",\n",
    "            \"Stop\",\n",
    "            \"stop1\",\n",
    "            \"stop2\",\n",
    "            \"stop3\",\n",
    "        ]\n",
    "    )\n",
    "    .filter(pl.col(\"epi3\") != \"HAS\")\n",
    "    .rows()\n",
    ")\n",
    "next(iterator)\n",
    "next(iterator)\n",
    "file, epi, epi1, epi2, epi3, start, start1, start2, start3, stop, stop1, stop2, stop3 = next(iterator)\n",
    "epi2 = f\"{epi}\"\n",
    "signal = get_signal(OOCHA_DIR / f\"{file}.mat\")\n",
    "\n",
    "tick = 0\n",
    "for i, (epi, start, stop) in enumerate(\n",
    "    zip([epi, epi1, epi2, epi3], [start, start1, start2, start3], [stop, stop1, stop2, stop3])\n",
    "):\n",
    "    lname = f\"{epi}_{i}\"\n",
    "    rr.log(lname, rr.SeriesLine(color=color[epi], name=epi), timeless=True)\n",
    "    for v in signal[start:stop]:\n",
    "        rr.set_time_seconds(\"step\", tick)\n",
    "        rr.log(\n",
    "            lname,\n",
    "            rr.Scalar(v),\n",
    "        )\n",
    "        tick += 1 / 500"
   ]
  }
 ],
 "metadata": {
  "kernelspec": {
   "display_name": "cci-cCOVHkGh-cci",
   "language": "python",
   "name": "python3"
  },
  "language_info": {
   "codemirror_mode": {
    "name": "ipython",
    "version": 3
   },
   "file_extension": ".py",
   "mimetype": "text/x-python",
   "name": "python",
   "nbconvert_exporter": "python",
   "pygments_lexer": "ipython3",
   "version": "3.11.8"
  }
 },
 "nbformat": 4,
 "nbformat_minor": 2
}
