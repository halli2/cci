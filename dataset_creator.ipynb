{
 "cells": [
  {
   "cell_type": "code",
   "execution_count": 1,
   "metadata": {},
   "outputs": [],
   "source": [
    "%load_ext autoreload\n",
    "%autoreload 2"
   ]
  },
  {
   "cell_type": "markdown",
   "metadata": {},
   "source": [
    "Create a dataframe with all cut information."
   ]
  },
  {
   "cell_type": "code",
   "execution_count": 2,
   "metadata": {},
   "outputs": [
    {
     "data": {
      "text/html": [
       "<div><style>\n",
       ".dataframe > thead > tr,\n",
       ".dataframe > tbody > tr {\n",
       "  text-align: right;\n",
       "  white-space: pre-wrap;\n",
       "}\n",
       "</style>\n",
       "<small>shape: (5, 10)</small><table border=\"1\" class=\"dataframe\"><thead><tr><th>files</th><th>EPI</th><th>SMP_start</th><th>SMP_stop</th><th>EPI_1</th><th>SMP_start_1</th><th>SMP_stop_1</th><th>EPI_2</th><th>SMP_start_2</th><th>SMP_stop_2</th></tr><tr><td>str</td><td>str</td><td>i32</td><td>i32</td><td>str</td><td>i32</td><td>i32</td><td>str</td><td>i32</td><td>i32</td></tr></thead><tbody><tr><td>&quot;S_1&quot;</td><td>&quot;un&quot;</td><td>1</td><td>11188</td><td>&quot;VF&quot;</td><td>11189</td><td>19352</td><td>&quot;dfb&quot;</td><td>19353</td><td>20192</td></tr><tr><td>&quot;S_1&quot;</td><td>&quot;VF&quot;</td><td>11189</td><td>19352</td><td>&quot;dfb&quot;</td><td>19353</td><td>20192</td><td>&quot;VF&quot;</td><td>20193</td><td>21272</td></tr><tr><td>&quot;S_1&quot;</td><td>&quot;dfb&quot;</td><td>19353</td><td>20192</td><td>&quot;VF&quot;</td><td>20193</td><td>21272</td><td>&quot;AS&quot;</td><td>21273</td><td>22846</td></tr><tr><td>&quot;S_1&quot;</td><td>&quot;VF&quot;</td><td>20193</td><td>21272</td><td>&quot;AS&quot;</td><td>21273</td><td>22846</td><td>&quot;CAS&quot;</td><td>22847</td><td>38680</td></tr><tr><td>&quot;S_1&quot;</td><td>&quot;AS&quot;</td><td>21273</td><td>22846</td><td>&quot;CAS&quot;</td><td>22847</td><td>38680</td><td>&quot;AS&quot;</td><td>38681</td><td>40186</td></tr></tbody></table></div>"
      ],
      "text/plain": [
       "shape: (5, 10)\n",
       "┌───────┬─────┬───────────┬──────────┬───┬────────────┬───────┬─────────────┬────────────┐\n",
       "│ files ┆ EPI ┆ SMP_start ┆ SMP_stop ┆ … ┆ SMP_stop_1 ┆ EPI_2 ┆ SMP_start_2 ┆ SMP_stop_2 │\n",
       "│ ---   ┆ --- ┆ ---       ┆ ---      ┆   ┆ ---        ┆ ---   ┆ ---         ┆ ---        │\n",
       "│ str   ┆ str ┆ i32       ┆ i32      ┆   ┆ i32        ┆ str   ┆ i32         ┆ i32        │\n",
       "╞═══════╪═════╪═══════════╪══════════╪═══╪════════════╪═══════╪═════════════╪════════════╡\n",
       "│ S_1   ┆ un  ┆ 1         ┆ 11188    ┆ … ┆ 19352      ┆ dfb   ┆ 19353       ┆ 20192      │\n",
       "│ S_1   ┆ VF  ┆ 11189     ┆ 19352    ┆ … ┆ 20192      ┆ VF    ┆ 20193       ┆ 21272      │\n",
       "│ S_1   ┆ dfb ┆ 19353     ┆ 20192    ┆ … ┆ 21272      ┆ AS    ┆ 21273       ┆ 22846      │\n",
       "│ S_1   ┆ VF  ┆ 20193     ┆ 21272    ┆ … ┆ 22846      ┆ CAS   ┆ 22847       ┆ 38680      │\n",
       "│ S_1   ┆ AS  ┆ 21273     ┆ 22846    ┆ … ┆ 38680      ┆ AS    ┆ 38681       ┆ 40186      │\n",
       "└───────┴─────┴───────────┴──────────┴───┴────────────┴───────┴─────────────┴────────────┘"
      ]
     },
     "execution_count": 2,
     "metadata": {},
     "output_type": "execute_result"
    }
   ],
   "source": [
    "import os\n",
    "from pathlib import Path\n",
    "\n",
    "from cci.utils import project_dir\n",
    "import polars as pl\n",
    "import scipy\n",
    "\n",
    "DATA_DIR = project_dir() / \"data\"\n",
    "DATA_DIR.mkdir(exist_ok=True)\n",
    "\n",
    "oocha_dir = Path(os.environ[\"OOCHA_DIR\"])\n",
    "arecs = scipy.io.loadmat(oocha_dir / \"arecs.mat\", simplify_cells=True)[\"arecs\"]\n",
    "oohrepr = scipy.io.loadmat(\n",
    "    oocha_dir / \"oohrepr.mat\",\n",
    "    simplify_cells=True,\n",
    ")[\"oohrepr\"]\n",
    "\n",
    "#\n",
    "files = []\n",
    "epi = []\n",
    "smp_start = []\n",
    "smp_stop = []\n",
    "for f, x, y in zip(arecs, oohrepr[\"EPI\"], oohrepr[\"SMP\"]):\n",
    "    if isinstance(x, str):\n",
    "        continue\n",
    "    for j, k in zip(x, y):\n",
    "        files.append(f)\n",
    "        epi.append(j)  # .upper()  # The original file uses both upper and lower case.\n",
    "        # Lower for noisy signal i think\n",
    "        smp_start.append(k[0])\n",
    "        smp_stop.append(k[1])\n",
    "\n",
    "original_df = (\n",
    "    pl.LazyFrame(\n",
    "        {\n",
    "            \"files\": files,\n",
    "            \"EPI\": epi,\n",
    "            \"SMP_start\": smp_start,\n",
    "            \"SMP_stop\": smp_stop,\n",
    "        }\n",
    "    )\n",
    "    .filter(pl.col(\"files\").is_not_null())\n",
    "    .with_columns(\n",
    "        pl.col(\"EPI\").shift(-1).alias(\"EPI_1\"),\n",
    "        pl.col(\"SMP_start\").shift(-1).alias(\"SMP_start_1\"),\n",
    "        pl.col(\"SMP_stop\").shift(-1).alias(\"SMP_stop_1\"),\n",
    "        pl.col(\"EPI\").shift(-2).alias(\"EPI_2\"),\n",
    "        pl.col(\"SMP_start\").shift(-2).alias(\"SMP_start_2\"),\n",
    "        pl.col(\"SMP_stop\").shift(-2).alias(\"SMP_stop_2\"),\n",
    "    )\n",
    "    .collect()\n",
    ")\n",
    "\n",
    "original_df.write_csv(DATA_DIR / \"original.csv\")\n",
    "original_df.head()"
   ]
  },
  {
   "cell_type": "markdown",
   "metadata": {},
   "source": [
    "# Min sample length"
   ]
  },
  {
   "cell_type": "code",
   "execution_count": 3,
   "metadata": {},
   "outputs": [
    {
     "name": "stdout",
     "output_type": "stream",
     "text": [
      "23182\n",
      "19532\n"
     ]
    }
   ],
   "source": [
    "df = original_df.filter((pl.col(\"SMP_stop\") - pl.col(\"SMP_start\")) > 1500)\n",
    "\n",
    "print(len(original_df))\n",
    "print(len(df))"
   ]
  },
  {
   "cell_type": "code",
   "execution_count": 4,
   "metadata": {},
   "outputs": [],
   "source": [
    "def classify_class_label(df, next_epi: int):\n",
    "    \"\"\"Class 0 good, class 1 bad\n",
    "    next_epi: 1 for EPI_1, 2 for EPI_2\n",
    "    Desired:\n",
    "    VF/VT -> PR\n",
    "    AS -> PR / VF / VT\n",
    "    PE -> PR\n",
    "    PR -> sROSC TODO:\n",
    "    \"\"\"\n",
    "    class_label = []\n",
    "    for epi, next_epi in df.select([\"EPI\", f\"EPI_{next_epi}\"]).rows():\n",
    "        match epi:\n",
    "            case \"AS\":\n",
    "                if next_epi in [\"VF\", \"VT\", \"PR\"]:\n",
    "                    class_label.append(0)\n",
    "                else:\n",
    "                    class_label.append(1)\n",
    "            case \"VF\":\n",
    "                if next_epi in [\"PR\"]:\n",
    "                    class_label.append(0)\n",
    "                else:\n",
    "                    class_label.append(1)\n",
    "            case \"VT\":\n",
    "                if next_epi in [\"PR\"]:\n",
    "                    class_label.append(0)\n",
    "                else:\n",
    "                    class_label.append(1)\n",
    "            case \"PE\":\n",
    "                if next_epi in [\"PR\"]:\n",
    "                    class_label.append(0)\n",
    "                else:\n",
    "                    class_label.append(1)\n",
    "            case \"PR\":\n",
    "                class_label.append(1)\n",
    "    return class_label"
   ]
  },
  {
   "cell_type": "markdown",
   "metadata": {},
   "source": [
    "# Clean DF"
   ]
  },
  {
   "cell_type": "code",
   "execution_count": 5,
   "metadata": {},
   "outputs": [],
   "source": [
    "clean_labels = [\"AS\", \"VF\", \"VT\", \"PE\", \"PR\"]\n",
    "clean_df = df.filter(\n",
    "    pl.col(\"EPI\").is_in(clean_labels),\n",
    "    pl.col(\"SMP_start_1\") != 1,\n",
    "    pl.col(\"EPI_1\").is_in(clean_labels),\n",
    ")\n",
    "class_label = classify_class_label(clean_df, 1)\n",
    "\n",
    "clean_df = clean_df.hstack([pl.Series(\"Class Label\", class_label)])\n",
    "clean_df.head(20)\n",
    "clean_df.write_csv(DATA_DIR / \"clean_df.csv\")"
   ]
  },
  {
   "cell_type": "markdown",
   "metadata": {},
   "source": [
    "# Clean DFB DF"
   ]
  },
  {
   "cell_type": "code",
   "execution_count": 6,
   "metadata": {},
   "outputs": [],
   "source": [
    "clean_labels = [\"AS\", \"VF\", \"VT\", \"PE\", \"PR\"]\n",
    "clean_dfb_df = df.filter(\n",
    "    pl.col(\"EPI\").is_in(clean_labels),\n",
    "    pl.col(\"SMP_start_1\") != 1,\n",
    "    pl.col(\"SMP_start_2\") != 1,\n",
    "    pl.col(\"EPI_1\") == \"dfb\",\n",
    "    pl.col(\"EPI_2\").is_in(clean_labels),\n",
    ")\n",
    "class_label = classify_class_label(clean_dfb_df, 2)\n",
    "clean_dfb_df = clean_dfb_df.hstack([pl.Series(\"Class Label\", class_label)])\n",
    "clean_dfb_df.head()\n",
    "clean_dfb_df.write_csv(DATA_DIR / \"clean_df_dfb.csv\")"
   ]
  },
  {
   "cell_type": "code",
   "execution_count": 7,
   "metadata": {},
   "outputs": [
    {
     "data": {
      "text/html": [
       "<div><style>\n",
       ".dataframe > thead > tr,\n",
       ".dataframe > tbody > tr {\n",
       "  text-align: right;\n",
       "  white-space: pre-wrap;\n",
       "}\n",
       "</style>\n",
       "<small>shape: (1, 2)</small><table border=\"1\" class=\"dataframe\"><thead><tr><th>Class Label</th><th>count</th></tr><tr><td>i64</td><td>u32</td></tr></thead><tbody><tr><td>1</td><td>941</td></tr></tbody></table></div>"
      ],
      "text/plain": [
       "shape: (1, 2)\n",
       "┌─────────────┬───────┐\n",
       "│ Class Label ┆ count │\n",
       "│ ---         ┆ ---   │\n",
       "│ i64         ┆ u32   │\n",
       "╞═════════════╪═══════╡\n",
       "│ 1           ┆ 941   │\n",
       "└─────────────┴───────┘"
      ]
     },
     "execution_count": 7,
     "metadata": {},
     "output_type": "execute_result"
    }
   ],
   "source": [
    "clean_dfb_df.select(\"Class Label\").to_series().value_counts()"
   ]
  },
  {
   "cell_type": "code",
   "execution_count": 8,
   "metadata": {},
   "outputs": [],
   "source": [
    "original_df.filter(pl.col(\"EPI_1\") == \"dfb\").write_csv(DATA_DIR / \"original_dfb.csv\")"
   ]
  },
  {
   "cell_type": "markdown",
   "metadata": {},
   "source": [
    "# Dataset V2\n",
    "\n",
    "## Alle fra samme episode legges i samme subfold for å unngå krysskontaminering.\n",
    "## rytme1 -> dfb -> rytme1 ->\n",
    "S_1,VF,11189,19352,dfb,19353,20192,VF,20193,21272\n",
    "S_1,dfb,19353,20192,VF,20193,21272,AS,21273,22846\n",
    "S_1,VF,20193,21272,AS,21273,22846,CAS,22847,38680\n",
    "S_1,AS,21273,22846,CAS,22847,38680,AS,38681,40186\n",
    "\n",
    "VF -> AS hvis kort nok tid etter dfb\n",
    "og kall de: DVF\n",
    "HVF\n",
    "HAS\n",
    "\n",
    "spontan vs defb"
   ]
  },
  {
   "cell_type": "code",
   "execution_count": 1,
   "metadata": {},
   "outputs": [],
   "source": [
    "import polars as pl\n",
    "import scipy\n",
    "import os\n",
    "from pathlib import Path\n",
    "import numpy as np\n",
    "from cci.utils import project_dir\n",
    "\n",
    "DATASET_FOLDER = project_dir() / \"data\"\n",
    "DATASET_FOLDER.mkdir(exist_ok=True)\n",
    "OOCHA_DIR = Path(os.environ[\"OOCHA_DIR\"])"
   ]
  },
  {
   "cell_type": "code",
   "execution_count": 76,
   "metadata": {},
   "outputs": [],
   "source": [
    "arecs = scipy.io.loadmat(OOCHA_DIR / \"arecs.mat\", simplify_cells=True)[\"arecs\"]\n",
    "oohca_info = scipy.io.loadmat(OOCHA_DIR / \"oohrepr.mat\", simplify_cells=True)[\"oohrepr\"]\n",
    "\n",
    "replace_object = lambda x: [[y] if isinstance(y, str) else y.tolist() for y in x]\n",
    "for k, v in oohca_info.items():\n",
    "    oohca_info[k] = replace_object(v)\n",
    "oohca_info.update({\"file\": arecs})\n",
    "oohca_info[\"EPI\"]\n",
    "oohca_info = {key: oohca_info[key] for key in [\"file\", \"EPI\", \"SMP\"]}"
   ]
  },
  {
   "cell_type": "code",
   "execution_count": 265,
   "metadata": {},
   "outputs": [],
   "source": [
    "# Collect values\n",
    "df = (\n",
    "    pl.LazyFrame(\n",
    "        {key: oohca_info[key] for key in [\"file\", \"EPI\", \"SMP\"]},\n",
    "        schema_overrides={\n",
    "            \"file\": str,\n",
    "            \"EPI\": list[str],\n",
    "            \"SMP\": list[list[int]],\n",
    "        },\n",
    "    )\n",
    "    .filter(\n",
    "        pl.col(\"file\").is_not_null(),  # Some of the entries are missing filename\n",
    "        # Remove rows where these are different (rows with 1 rythm)\n",
    "        pl.col(\"EPI\").list.eval(pl.element().len())\n",
    "        == pl.col(\"SMP\").list.eval(pl.element().len()),\n",
    "    )\n",
    "    .explode(\"EPI\", \"SMP\")\n",
    "    .with_columns(\n",
    "        # Extract start/stop\n",
    "        pl.col(\"SMP\").list.to_struct(\n",
    "            fields=[\"Start\", \"Stop\"],\n",
    "        ),\n",
    "    )\n",
    "    .unnest(\"SMP\")\n",
    ")\n",
    "\n",
    "# Annotate\n",
    "\n",
    "\n",
    "def annotate_hands_off(epi: str) -> str:\n",
    "    \"\"\"Hands off AS -> HAS\"\"\"\n",
    "    mappings = {\n",
    "        \"AS\": \"HAS\",\n",
    "        \"pr\": \"hpr\",\n",
    "        \"VF\": \"HVF\",\n",
    "        \"PR\": \"HPR\",\n",
    "        \"as\": \"has\",\n",
    "        \"vf\": \"hvf\",\n",
    "        \"pe\": \"hpe\",\n",
    "        \"VT\": \"HVT\",\n",
    "        \"PE\": \"HPE\",\n",
    "        \"vt\": \"hvt\",\n",
    "        \"un\": \"hun\",\n",
    "    }\n",
    "    return mappings.get(epi, epi)\n",
    "\n",
    "\n",
    "def map_dfb(vals: pl.Struct) -> str:\n",
    "    \"\"\"VT -> dfb -> VT => VT -> DVT -> VT\"\"\"\n",
    "    prev = vals[\"epi_-1\"]\n",
    "    current = vals[\"epi_0\"]\n",
    "    next = vals[\"epi_1\"]\n",
    "    if current == \"dfb\" and prev == next:\n",
    "        return f\"D{prev}\"\n",
    "    else:\n",
    "        return current\n",
    "\n",
    "\n",
    "# Annotate 'dfb' with corresponding rythm\n",
    "\n",
    "df = (\n",
    "    df.with_columns(\n",
    "        [pl.col(\"EPI\").shift(-i).alias(f\"epi_{i}\") for i in range(-1, 2)],\n",
    "    )\n",
    "    .with_columns(\n",
    "        pl.struct([\"epi_-1\", \"epi_0\", \"epi_1\"]).map_elements(map_dfb).alias(\"EPI\")\n",
    "    )\n",
    "    .with_columns(pl.col(\"EPI\").map_elements(annotate_hands_off))\n",
    "    # BUG\n",
    "    # .drop(\n",
    "    #     [f\"epi_{i}\" for i in range(-1, 2)],\n",
    "    # )\n",
    ")\n",
    "\n",
    "# Collect and save\n",
    "# BUG:?? Have to drop here or Start and Stop also gets dropped....\n",
    "df = df.collect().drop(\n",
    "    [f\"epi_{i}\" for i in range(-1, 2)],\n",
    ")\n",
    "df.write_csv(DATASET_FOLDER / \"full.csv\")"
   ]
  }
 ],
 "metadata": {
  "kernelspec": {
   "display_name": "cci-cCOVHkGh-cci",
   "language": "python",
   "name": "python3"
  },
  "language_info": {
   "codemirror_mode": {
    "name": "ipython",
    "version": 3
   },
   "file_extension": ".py",
   "mimetype": "text/x-python",
   "name": "python",
   "nbconvert_exporter": "python",
   "pygments_lexer": "ipython3",
   "version": "3.11.8"
  }
 },
 "nbformat": 4,
 "nbformat_minor": 2
}
