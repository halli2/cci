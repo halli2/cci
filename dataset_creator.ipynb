{
 "cells": [
  {
   "cell_type": "code",
   "execution_count": null,
   "metadata": {},
   "outputs": [],
   "source": [
    "%load_ext autoreload\n",
    "%autoreload 2"
   ]
  },
  {
   "cell_type": "markdown",
   "metadata": {},
   "source": [
    "Create a dataframe with all cut information."
   ]
  },
  {
   "cell_type": "code",
   "execution_count": null,
   "metadata": {},
   "outputs": [],
   "source": [
    "import os\n",
    "from pathlib import Path\n",
    "\n",
    "import polars as pl\n",
    "import scipy\n",
    "\n",
    "DATA_DIR = Path(\"data\")\n",
    "DATA_DIR.mkdir(exist_ok=True)\n",
    "\n",
    "oocha_dir = Path(os.environ[\"OOCHA_DIR\"])\n",
    "arecs = scipy.io.loadmat(oocha_dir / \"arecs.mat\", simplify_cells=True)[\"arecs\"]\n",
    "oohrepr = scipy.io.loadmat(\n",
    "    oocha_dir / \"oohrepr.mat\",\n",
    "    simplify_cells=True,\n",
    ")[\"oohrepr\"]\n",
    "\n",
    "#\n",
    "files = []\n",
    "epi = []\n",
    "smp_start = []\n",
    "smp_stop = []\n",
    "for f, x, y in zip(arecs, oohrepr[\"EPI\"], oohrepr[\"SMP\"]):\n",
    "    if isinstance(x, str):\n",
    "        continue\n",
    "    for j, k in zip(x, y):\n",
    "        files.append(f)\n",
    "        epi.append(j)  # .upper()  # The original file uses both upper and lower case.\n",
    "        # Lower for noisy signal i think\n",
    "        smp_start.append(k[0])\n",
    "        smp_stop.append(k[1])\n",
    "\n",
    "original_df = (\n",
    "    pl.LazyFrame(\n",
    "        {\n",
    "            \"files\": files,\n",
    "            \"EPI\": epi,\n",
    "            \"SMP_start\": smp_start,\n",
    "            \"SMP_stop\": smp_stop,\n",
    "        }\n",
    "    )\n",
    "    .filter(pl.col(\"files\").is_not_null())\n",
    "    .with_columns(\n",
    "        pl.col(\"EPI\").shift(-1).alias(\"EPI_1\"),\n",
    "        pl.col(\"SMP_start\").shift(-1).alias(\"SMP_start_1\"),\n",
    "        pl.col(\"SMP_stop\").shift(-1).alias(\"SMP_stop_1\"),\n",
    "        pl.col(\"EPI\").shift(-2).alias(\"EPI_2\"),\n",
    "        pl.col(\"SMP_start\").shift(-2).alias(\"SMP_start_2\"),\n",
    "        pl.col(\"SMP_stop\").shift(-2).alias(\"SMP_stop_2\"),\n",
    "    )\n",
    "    .collect()\n",
    ")\n",
    "\n",
    "original_df.write_csv(DATA_DIR / \"original.csv\")\n",
    "original_df.head()"
   ]
  },
  {
   "cell_type": "markdown",
   "metadata": {},
   "source": [
    "# Min sample length"
   ]
  },
  {
   "cell_type": "code",
   "execution_count": null,
   "metadata": {},
   "outputs": [],
   "source": [
    "df = original_df.filter((pl.col(\"SMP_stop\") - pl.col(\"SMP_start\")) > 1500)\n",
    "\n",
    "print(len(original_df))\n",
    "print(len(df))"
   ]
  },
  {
   "cell_type": "code",
   "execution_count": null,
   "metadata": {},
   "outputs": [],
   "source": [
    "def classify_class_label(df, next_epi: int):\n",
    "    \"\"\"Class 0 good, class 1 bad\n",
    "    next_epi: 1 for EPI_1, 2 for EPI_2\n",
    "    Desired:\n",
    "    VF/VT -> PR\n",
    "    AS -> PR / VF / VT\n",
    "    PE -> PR\n",
    "    PR -> sROSC TODO:\n",
    "    \"\"\"\n",
    "    class_label = []\n",
    "    for epi, next_epi in df.select([\"EPI\", f\"EPI_{next_epi}\"]).rows():\n",
    "        match epi:\n",
    "            case \"AS\":\n",
    "                if next_epi in [\"VF\", \"VT\", \"PR\"]:\n",
    "                    class_label.append(0)\n",
    "                else:\n",
    "                    class_label.append(1)\n",
    "            case \"VF\":\n",
    "                if next_epi in [\"PR\"]:\n",
    "                    class_label.append(0)\n",
    "                else:\n",
    "                    class_label.append(1)\n",
    "            case \"VT\":\n",
    "                if next_epi in [\"PR\"]:\n",
    "                    class_label.append(0)\n",
    "                else:\n",
    "                    class_label.append(1)\n",
    "            case \"PE\":\n",
    "                if next_epi in [\"PR\"]:\n",
    "                    class_label.append(0)\n",
    "                else:\n",
    "                    class_label.append(1)\n",
    "            case \"PR\":\n",
    "                class_label.append(1)\n",
    "    return class_label"
   ]
  },
  {
   "cell_type": "markdown",
   "metadata": {},
   "source": [
    "# Clean DF"
   ]
  },
  {
   "cell_type": "code",
   "execution_count": null,
   "metadata": {},
   "outputs": [],
   "source": [
    "clean_labels = [\"AS\", \"VF\", \"VT\", \"PE\", \"PR\"]\n",
    "clean_df = df.filter(\n",
    "    pl.col(\"EPI\").is_in(clean_labels),\n",
    "    pl.col(\"SMP_start_1\") != 1,\n",
    "    pl.col(\"EPI_1\").is_in(clean_labels),\n",
    ")\n",
    "class_label = classify_class_label(clean_df, 1)\n",
    "\n",
    "clean_df = clean_df.hstack([pl.Series(\"Class Label\", class_label)])\n",
    "clean_df.head(20)\n",
    "clean_df.write_csv(DATA_DIR / \"clean_df.csv\")"
   ]
  },
  {
   "cell_type": "markdown",
   "metadata": {},
   "source": [
    "# Clean DFB DF"
   ]
  },
  {
   "cell_type": "code",
   "execution_count": null,
   "metadata": {},
   "outputs": [],
   "source": [
    "clean_labels = [\"AS\", \"VF\", \"VT\", \"PE\", \"PR\"]\n",
    "clean_dfb_df = df.filter(\n",
    "    pl.col(\"EPI\").is_in(clean_labels),\n",
    "    pl.col(\"SMP_start_1\") != 1,\n",
    "    pl.col(\"SMP_start_2\") != 1,\n",
    "    pl.col(\"EPI_1\") == \"dfb\",\n",
    "    pl.col(\"EPI_2\").is_in(clean_labels),\n",
    ")\n",
    "class_label = classify_class_label(clean_dfb_df, 2)\n",
    "clean_dfb_df = clean_dfb_df.hstack([pl.Series(\"Class Label\", class_label)])\n",
    "clean_dfb_df.head()\n",
    "clean_dfb_df.write_csv(DATA_DIR / \"clean_df_dfb.csv\")"
   ]
  },
  {
   "cell_type": "code",
   "execution_count": null,
   "metadata": {},
   "outputs": [],
   "source": [
    "clean_dfb_df.select(\"Class Label\").to_series().value_counts()"
   ]
  },
  {
   "cell_type": "code",
   "execution_count": null,
   "metadata": {},
   "outputs": [],
   "source": [
    "original_df.filter(pl.col(\"EPI_1\") == \"dfb\").write_csv(DATA_DIR / \"original_dfb.csv\")"
   ]
  }
 ],
 "metadata": {
  "kernelspec": {
   "display_name": "cci-cCOVHkGh-cci",
   "language": "python",
   "name": "python3"
  },
  "language_info": {
   "codemirror_mode": {
    "name": "ipython",
    "version": 3
   },
   "file_extension": ".py",
   "mimetype": "text/x-python",
   "name": "python",
   "nbconvert_exporter": "python",
   "pygments_lexer": "ipython3",
   "version": "3.11.8"
  }
 },
 "nbformat": 4,
 "nbformat_minor": 2
}
