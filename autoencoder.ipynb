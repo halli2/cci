{
 "cells": [
  {
   "cell_type": "code",
   "execution_count": 11,
   "metadata": {},
   "outputs": [],
   "source": [
    "%load_ext autoreload\n",
    "%autoreload 2"
   ]
  },
  {
   "cell_type": "code",
   "execution_count": 3,
   "metadata": {},
   "outputs": [],
   "source": [
    "import os\n",
    "import sys\n",
    "from pathlib import Path\n",
    "\n",
    "sys.path.append(\"cci\")\n",
    "from cci.dataset import skfold\n",
    "from cci.utils import project_dir\n",
    "\n",
    "RESULTS_DIR = project_dir() / \"results\"\n",
    "DATA_DIR = project_dir() / \"data\"\n",
    "OOHCA_DIR = Path(os.environ[\"OOCHA_DIR\"])"
   ]
  },
  {
   "cell_type": "code",
   "execution_count": 6,
   "metadata": {},
   "outputs": [],
   "source": [
    "train_loader, val_loader, test_loader = next(skfold(DATA_DIR / \"full\", OOHCA_DIR, 32))"
   ]
  },
  {
   "cell_type": "code",
   "execution_count": 15,
   "metadata": {},
   "outputs": [],
   "source": [
    "data = iter(train_loader).__next__()\n",
    "sample, label = data[\"signal\"], data[\"label\"]"
   ]
  },
  {
   "cell_type": "code",
   "execution_count": 18,
   "metadata": {},
   "outputs": [
    {
     "data": {
      "text/plain": [
       "tensor([[-4.8457e-02, -1.3403e-02, -3.6085e-02,  ..., -1.7836e-01,\n",
       "         -1.9692e-01, -2.1960e-01],\n",
       "        [-1.4228e-01, -1.3918e-01, -1.3815e-01,  ..., -3.8147e-02,\n",
       "         -3.8147e-02, -3.6085e-02],\n",
       "        [ 1.0516e-01,  9.1759e-02,  8.4542e-02,  ...,  2.0620e-01,\n",
       "          2.0723e-01,  1.9589e-01],\n",
       "        ...,\n",
       "        [ 1.8558e-02,  9.2790e-03, -1.0310e-02,  ..., -7.3201e-02,\n",
       "         -7.1139e-02, -6.7015e-02],\n",
       "        [ 3.0621e-01,  2.9796e-01,  2.8559e-01,  ...,  3.3720e+01,\n",
       "          3.3728e+01,  3.3767e+01],\n",
       "        [ 5.7221e-01,  5.4746e-01,  5.2375e-01,  ..., -1.7527e-01,\n",
       "         -1.7836e-01, -1.7733e-01]])"
      ]
     },
     "execution_count": 18,
     "metadata": {},
     "output_type": "execute_result"
    }
   ],
   "source": [
    "sample"
   ]
  },
  {
   "cell_type": "code",
   "execution_count": 30,
   "metadata": {},
   "outputs": [
    {
     "data": {
      "text/plain": [
       "tensor([[0.3172],\n",
       "        [0.3172],\n",
       "        [0.3172],\n",
       "        [0.3172],\n",
       "        [0.3172],\n",
       "        [0.3172],\n",
       "        [0.3172],\n",
       "        [0.3172],\n",
       "        [0.3172],\n",
       "        [0.3172],\n",
       "        [0.3172],\n",
       "        [0.3172],\n",
       "        [0.3172],\n",
       "        [0.3172],\n",
       "        [0.3172],\n",
       "        [0.3172],\n",
       "        [0.3172],\n",
       "        [0.3172],\n",
       "        [0.3172],\n",
       "        [0.3172],\n",
       "        [0.3172],\n",
       "        [0.3172],\n",
       "        [0.3172],\n",
       "        [0.3172],\n",
       "        [0.3172],\n",
       "        [0.3172],\n",
       "        [0.3172],\n",
       "        [0.3172],\n",
       "        [0.3172],\n",
       "        [0.3172],\n",
       "        [0.3172],\n",
       "        [0.3172]], grad_fn=<AddmmBackward0>)"
      ]
     },
     "execution_count": 30,
     "metadata": {},
     "output_type": "execute_result"
    }
   ],
   "source": [
    "from cci.train import AutoModel\n",
    "\n",
    "model = AutoModel()\n",
    "model(sample)"
   ]
  }
 ],
 "metadata": {
  "kernelspec": {
   "display_name": ".venv",
   "language": "python",
   "name": "python3"
  },
  "language_info": {
   "codemirror_mode": {
    "name": "ipython",
    "version": 3
   },
   "file_extension": ".py",
   "mimetype": "text/x-python",
   "name": "python",
   "nbconvert_exporter": "python",
   "pygments_lexer": "ipython3",
   "version": "3.11.8"
  }
 },
 "nbformat": 4,
 "nbformat_minor": 2
}
