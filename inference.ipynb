{
 "cells": [
  {
   "cell_type": "code",
   "execution_count": 47,
   "metadata": {},
   "outputs": [
    {
     "data": {
      "text/plain": [
       "RecursiveScriptModule(\n",
       "  original_name=CNNModel\n",
       "  (sequential): RecursiveScriptModule(\n",
       "    original_name=Sequential\n",
       "    (0): RecursiveScriptModule(original_name=Conv1d)\n",
       "    (1): RecursiveScriptModule(original_name=BatchNorm1d)\n",
       "    (2): RecursiveScriptModule(original_name=Dropout)\n",
       "    (3): RecursiveScriptModule(original_name=ReLU)\n",
       "    (4): RecursiveScriptModule(original_name=Conv1d)\n",
       "    (5): RecursiveScriptModule(original_name=BatchNorm1d)\n",
       "    (6): RecursiveScriptModule(original_name=Dropout)\n",
       "    (7): RecursiveScriptModule(original_name=ReLU)\n",
       "    (8): RecursiveScriptModule(original_name=AdaptiveAvgPool1d)\n",
       "    (9): RecursiveScriptModule(original_name=Flatten)\n",
       "    (10): RecursiveScriptModule(original_name=Linear)\n",
       "  )\n",
       ")"
      ]
     },
     "execution_count": 47,
     "metadata": {},
     "output_type": "execute_result"
    }
   ],
   "source": [
    "import torch\n",
    "from cci.utils import project_dir\n",
    "\n",
    "device = torch.device(\"cpu\")\n",
    "\n",
    "model = torch.jit.load(\n",
    "    project_dir() / \"results/CNN/137/0_model.pt\", map_location=device\n",
    ")\n",
    "model.eval()\n",
    "model"
   ]
  },
  {
   "cell_type": "code",
   "execution_count": 48,
   "metadata": {},
   "outputs": [],
   "source": [
    "import os\n",
    "from pathlib import Path\n",
    "import numpy as np\n",
    "import scipy\n",
    "\n",
    "signal_path = Path(os.environ[\"OOCHA_DIR\"]) / \"a_150.mat\"\n",
    "\n",
    "signal = scipy.io.loadmat(signal_path, simplify_cells=True)[\"SIGNALS\"][\n",
    "    \"ecg_diff\"\n",
    "].astype(np.float32)"
   ]
  },
  {
   "cell_type": "code",
   "execution_count": 51,
   "metadata": {},
   "outputs": [
    {
     "name": "stderr",
     "output_type": "stream",
     "text": [
      "[2024-04-10T10:55:39Z INFO  egui_wgpu] There were 2 available wgpu adapters: {backend: Vulkan, device_type: IntegratedGpu, name: \"AMD Radeon Graphics (RADV RENOIR)\", driver: \"radv\", driver_info: \"Mesa 23.1.9\", vendor: 0x1002, device: 0x1638}, {backend: Vulkan, device_type: Cpu, name: \"llvmpipe (LLVM 16.0.6, 256 bits)\", driver: \"llvmpipe\", driver_info: \"Mesa 23.1.9 (LLVM 16.0.6)\", vendor: 0x10005}\n",
      "[2024-04-10T10:55:39Z INFO  tracing::span] perform;\n",
      "[2024-04-10T10:55:39Z INFO  zbus::handshake] write_command; command=Auth(Some(External), Some([49, 48, 48, 48]))\n",
      "[2024-04-10T10:55:39Z INFO  tracing::span] read_command;\n",
      "[2024-04-10T10:55:39Z INFO  zbus::handshake] write_command; command=NegotiateUnixFD\n",
      "[2024-04-10T10:55:39Z INFO  tracing::span] read_command;\n",
      "[2024-04-10T10:55:39Z INFO  zbus::handshake] write_command; command=Begin\n",
      "[2024-04-10T10:55:39Z INFO  tracing::span] socket reader;\n",
      "[2024-04-10T10:55:39Z INFO  tracing::span] perform;\n",
      "[2024-04-10T10:55:39Z INFO  zbus::handshake] write_command; command=Auth(Some(External), Some([49, 48, 48, 48]))\n",
      "[2024-04-10T10:55:39Z INFO  tracing::span] read_command;\n",
      "[2024-04-10T10:55:39Z INFO  zbus::handshake] write_command; command=NegotiateUnixFD\n",
      "[2024-04-10T10:55:39Z INFO  tracing::span] read_command;\n",
      "[2024-04-10T10:55:39Z INFO  zbus::handshake] write_command; command=Begin\n",
      "[2024-04-10T10:55:39Z INFO  tracing::span] socket reader;\n",
      "[2024-04-10T10:55:39Z INFO  zbus::connection] {}; obj_server_task_name=\"ObjectServer task\"\n",
      "[2024-04-10T10:55:39Z INFO  zbus::object_server] dispatch_message; msg=Msg { type: MethodCall, sender: UniqueName(Str(Borrowed(\":1.2\"))), path: ObjectPath(\"/org/a11y/atspi/accessible/root\"), iface: InterfaceName(Str(Borrowed(\"org.freedesktop.DBus.Properties\"))), member: MemberName(Str(Borrowed(\"Set\"))), body: Signature(\"ssv\") }\n",
      "[2024-04-10T10:55:39Z INFO  zbus::object_server] dispatch_method_call; msg=Msg { type: MethodCall, sender: UniqueName(Str(Borrowed(\":1.2\"))), path: ObjectPath(\"/org/a11y/atspi/accessible/root\"), iface: InterfaceName(Str(Borrowed(\"org.freedesktop.DBus.Properties\"))), member: MemberName(Str(Borrowed(\"Set\"))), body: Signature(\"ssv\") }\n",
      "[2024-04-10T10:55:39Z INFO  zbus::object_server] dispatch_method_call_try; msg=Msg { type: MethodCall, sender: UniqueName(Str(Borrowed(\":1.2\"))), path: ObjectPath(\"/org/a11y/atspi/accessible/root\"), iface: InterfaceName(Str(Borrowed(\"org.freedesktop.DBus.Properties\"))), member: MemberName(Str(Borrowed(\"Set\"))), body: Signature(\"ssv\") }\n"
     ]
    },
    {
     "ename": "KeyboardInterrupt",
     "evalue": "",
     "output_type": "error",
     "traceback": [
      "\u001b[0;31m---------------------------------------------------------------------------\u001b[0m",
      "\u001b[0;31mKeyboardInterrupt\u001b[0m                         Traceback (most recent call last)",
      "Cell \u001b[0;32mIn[51], line 15\u001b[0m\n\u001b[1;32m     13\u001b[0m \u001b[38;5;28;01mif\u001b[39;00m i \u001b[38;5;241m>\u001b[39m window_size:\n\u001b[1;32m     14\u001b[0m     window \u001b[38;5;241m=\u001b[39m torch\u001b[38;5;241m.\u001b[39mtensor(signal[i \u001b[38;5;241m-\u001b[39m window_size : i])\u001b[38;5;241m.\u001b[39munsqueeze(\u001b[38;5;241m0\u001b[39m)\n\u001b[0;32m---> 15\u001b[0m     prediction \u001b[38;5;241m=\u001b[39m torch\u001b[38;5;241m.\u001b[39mnn\u001b[38;5;241m.\u001b[39mfunctional\u001b[38;5;241m.\u001b[39msigmoid(\u001b[43mmodel\u001b[49m\u001b[43m(\u001b[49m\u001b[43mwindow\u001b[49m\u001b[43m)\u001b[49m)\n\u001b[1;32m     16\u001b[0m     \u001b[38;5;66;03m# predictions.append(prediction.detach())\u001b[39;00m\n\u001b[1;32m     18\u001b[0m     rr\u001b[38;5;241m.\u001b[39mlog(\u001b[38;5;124m\"\u001b[39m\u001b[38;5;124m/pred/0\u001b[39m\u001b[38;5;124m\"\u001b[39m, rr\u001b[38;5;241m.\u001b[39mScalar(prediction\u001b[38;5;241m.\u001b[39mdetach()\u001b[38;5;241m.\u001b[39mitem()))\n",
      "File \u001b[0;32m~/Dev/cci/.venv/lib64/python3.11/site-packages/torch/nn/modules/module.py:1511\u001b[0m, in \u001b[0;36mModule._wrapped_call_impl\u001b[0;34m(self, *args, **kwargs)\u001b[0m\n\u001b[1;32m   1509\u001b[0m     \u001b[38;5;28;01mreturn\u001b[39;00m \u001b[38;5;28mself\u001b[39m\u001b[38;5;241m.\u001b[39m_compiled_call_impl(\u001b[38;5;241m*\u001b[39margs, \u001b[38;5;241m*\u001b[39m\u001b[38;5;241m*\u001b[39mkwargs)  \u001b[38;5;66;03m# type: ignore[misc]\u001b[39;00m\n\u001b[1;32m   1510\u001b[0m \u001b[38;5;28;01melse\u001b[39;00m:\n\u001b[0;32m-> 1511\u001b[0m     \u001b[38;5;28;01mreturn\u001b[39;00m \u001b[38;5;28;43mself\u001b[39;49m\u001b[38;5;241;43m.\u001b[39;49m\u001b[43m_call_impl\u001b[49m\u001b[43m(\u001b[49m\u001b[38;5;241;43m*\u001b[39;49m\u001b[43margs\u001b[49m\u001b[43m,\u001b[49m\u001b[43m \u001b[49m\u001b[38;5;241;43m*\u001b[39;49m\u001b[38;5;241;43m*\u001b[39;49m\u001b[43mkwargs\u001b[49m\u001b[43m)\u001b[49m\n",
      "File \u001b[0;32m~/Dev/cci/.venv/lib64/python3.11/site-packages/torch/nn/modules/module.py:1520\u001b[0m, in \u001b[0;36mModule._call_impl\u001b[0;34m(self, *args, **kwargs)\u001b[0m\n\u001b[1;32m   1515\u001b[0m \u001b[38;5;66;03m# If we don't have any hooks, we want to skip the rest of the logic in\u001b[39;00m\n\u001b[1;32m   1516\u001b[0m \u001b[38;5;66;03m# this function, and just call forward.\u001b[39;00m\n\u001b[1;32m   1517\u001b[0m \u001b[38;5;28;01mif\u001b[39;00m \u001b[38;5;129;01mnot\u001b[39;00m (\u001b[38;5;28mself\u001b[39m\u001b[38;5;241m.\u001b[39m_backward_hooks \u001b[38;5;129;01mor\u001b[39;00m \u001b[38;5;28mself\u001b[39m\u001b[38;5;241m.\u001b[39m_backward_pre_hooks \u001b[38;5;129;01mor\u001b[39;00m \u001b[38;5;28mself\u001b[39m\u001b[38;5;241m.\u001b[39m_forward_hooks \u001b[38;5;129;01mor\u001b[39;00m \u001b[38;5;28mself\u001b[39m\u001b[38;5;241m.\u001b[39m_forward_pre_hooks\n\u001b[1;32m   1518\u001b[0m         \u001b[38;5;129;01mor\u001b[39;00m _global_backward_pre_hooks \u001b[38;5;129;01mor\u001b[39;00m _global_backward_hooks\n\u001b[1;32m   1519\u001b[0m         \u001b[38;5;129;01mor\u001b[39;00m _global_forward_hooks \u001b[38;5;129;01mor\u001b[39;00m _global_forward_pre_hooks):\n\u001b[0;32m-> 1520\u001b[0m     \u001b[38;5;28;01mreturn\u001b[39;00m \u001b[43mforward_call\u001b[49m\u001b[43m(\u001b[49m\u001b[38;5;241;43m*\u001b[39;49m\u001b[43margs\u001b[49m\u001b[43m,\u001b[49m\u001b[43m \u001b[49m\u001b[38;5;241;43m*\u001b[39;49m\u001b[38;5;241;43m*\u001b[39;49m\u001b[43mkwargs\u001b[49m\u001b[43m)\u001b[49m\n\u001b[1;32m   1522\u001b[0m \u001b[38;5;28;01mtry\u001b[39;00m:\n\u001b[1;32m   1523\u001b[0m     result \u001b[38;5;241m=\u001b[39m \u001b[38;5;28;01mNone\u001b[39;00m\n",
      "\u001b[0;31mKeyboardInterrupt\u001b[0m: "
     ]
    }
   ],
   "source": [
    "import rerun as rr\n",
    "\n",
    "window_size = 1500\n",
    "overlap = 1\n",
    "\n",
    "\n",
    "rr.init(\"inference\", spawn=True)\n",
    "\n",
    "predictions = []\n",
    "for i in range(0, len(signal)):  # - window_size + 1, overlap):\n",
    "    rr.set_time_sequence(\"step\", i)\n",
    "    rr.log(\"/Signal/0\", rr.Scalar(signal[i]))\n",
    "    if i > window_size:\n",
    "        window = torch.tensor(signal[i - window_size : i]).unsqueeze(0)\n",
    "        prediction = torch.nn.functional.sigmoid(model(window))\n",
    "        # predictions.append(prediction.detach())\n",
    "\n",
    "        rr.log(\"/pred/0\", rr.Scalar(prediction.detach().item()))\n",
    "    else:\n",
    "        rr.log(\"/pred/0\", rr.Scalar(0.5))"
   ]
  }
 ],
 "metadata": {
  "kernelspec": {
   "display_name": ".venv",
   "language": "python",
   "name": "python3"
  },
  "language_info": {
   "codemirror_mode": {
    "name": "ipython",
    "version": 3
   },
   "file_extension": ".py",
   "mimetype": "text/x-python",
   "name": "python",
   "nbconvert_exporter": "python",
   "pygments_lexer": "ipython3",
   "version": "3.11.8"
  }
 },
 "nbformat": 4,
 "nbformat_minor": 2
}
