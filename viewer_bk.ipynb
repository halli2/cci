{
 "cells": [
  {
   "cell_type": "code",
   "execution_count": 16,
   "metadata": {},
   "outputs": [
    {
     "name": "stdout",
     "output_type": "stream",
     "text": [
      "The autoreload extension is already loaded. To reload it, use:\n",
      "  %reload_ext autoreload\n"
     ]
    }
   ],
   "source": [
    "%load_ext autoreload\n",
    "%autoreload 2"
   ]
  },
  {
   "cell_type": "code",
   "execution_count": 17,
   "metadata": {},
   "outputs": [],
   "source": [
    "# http://vrl.cs.brown.edu/color\n",
    "\n",
    "color = {\n",
    "    \"AS\": [82, 239, 153],\n",
    "    \"VT\": [17, 94, 65],\n",
    "    \"VF\": [148, 210, 207],\n",
    "    \"PE\": [44, 69, 125],\n",
    "    \"PR\": [209, 121, 248],\n",
    "    \"as\": [153, 28, 100],\n",
    "    \"vf\": [172, 130, 180],\n",
    "    \"vt\": [102, 51, 180],\n",
    "    \"pe\": [238, 200, 241],\n",
    "    \"pr\": [41, 140, 192],\n",
    "    \"CAS\": [183, 209, 101],\n",
    "    \"CVT\": [58, 166, 9],\n",
    "    \"CVF\": [44, 245, 43],\n",
    "    \"CPE\": [93, 64, 48],\n",
    "    \"CPR\": [254, 183, 134],\n",
    "    \"cas\": [177, 75, 50],\n",
    "    \"cvt\": [251, 45, 76],\n",
    "    \"cvf\": [251, 189, 19],\n",
    "    \"cpe\": [116, 141, 19],\n",
    "    \"cpr\": [37, 128, 254],\n",
    "    \"un\": [246, 18, 168],\n",
    "    \"cun\": [194, 24, 241],\n",
    "    \"dfb\": [160, 127, 61],\n",
    "}"
   ]
  },
  {
   "cell_type": "code",
   "execution_count": 18,
   "metadata": {},
   "outputs": [],
   "source": [
    "import rerun as rr\n",
    "\n",
    "rr.init(\"vivivivivivi\")\n",
    "rr.connect()"
   ]
  },
  {
   "cell_type": "code",
   "execution_count": 19,
   "metadata": {},
   "outputs": [],
   "source": [
    "import os\n",
    "from pathlib import Path\n",
    "\n",
    "import polars as pl\n",
    "import scipy\n",
    "\n",
    "from cci.utils import project_dir\n",
    "\n",
    "oocha_dir = Path(os.environ[\"OOCHA_DIR\"])\n",
    "clean_df = pl.read_csv(project_dir() / \"data/original.csv\")\n",
    "df = clean_df.select([\"files\", \"EPI\", \"EPI_1\", \"SMP_start\", \"SMP_stop\", \"SMP_stop_1\"])\n",
    "file, epi, epi_1, start, transition, stop = df.row(0)\n",
    "\n",
    "signal = scipy.io.loadmat(\n",
    "    oocha_dir / f\"{file}.mat\",\n",
    "    simplify_cells=True,\n",
    ")[\"SIGNALS\"][\"ecg_diff\"]"
   ]
  },
  {
   "cell_type": "code",
   "execution_count": 20,
   "metadata": {},
   "outputs": [
    {
     "name": "stdout",
     "output_type": "stream",
     "text": [
      "372500\n",
      "372500\n",
      "372500\n",
      "372500\n",
      "372500\n",
      "372500\n",
      "372500\n",
      "372500\n",
      "372500\n",
      "372500\n",
      "372500\n",
      "372500\n",
      "372500\n",
      "372500\n"
     ]
    },
    {
     "data": {
      "text/plain": [
       "{'timecode': array([  8678,   8679,   8680, ..., 381175, 381176, 381177], dtype=int32),\n",
       " 'pad_switch': array([0, 0, 0, ..., 0, 0, 0], dtype=uint8),\n",
       " 'thorax_imp': array([356.17729, 356.17729, 356.17729, ..., 125.41806, 125.51589,\n",
       "        125.51589]),\n",
       " 'ecg_common': array([234.346, 234.308, 234.346, ..., -79.116, -79.078, -79.116]),\n",
       " 'ecg_offset': array([637.524, 637.416, 637.524, ...,  11.52 ,  11.52 ,  11.52 ]),\n",
       " 'respiration': array([-23.39424, -23.39568, -23.39496, ...,   4.6008 ,   4.6008 ,\n",
       "          4.60152]),\n",
       " 'flow': array([2.375, 2.25 , 2.5  , ..., 5.75 , 5.375, 5.375]),\n",
       " 'pad_h_acc': array([-2744, -2742, -2741, ..., -2110, -2109, -2107], dtype=int16),\n",
       " 'ecg_diff': array([-0.071139, -0.070108, -0.076294, ..., -0.058767, -0.057736,\n",
       "        -0.055674]),\n",
       " 'board_v_acc': array([-4801, -4801, -4800, ..., -4803, -4796, -4791], dtype=int16),\n",
       " 'board_h_acc': array([-815, -814, -815, ..., -696, -696, -700], dtype=int16),\n",
       " 'pad_v_acc': array([-6947, -6947, -6950, ..., -6320, -6319, -6321], dtype=int16),\n",
       " 'pad_pressure': array([-44.7916, -44.786 , -44.8056, ..., -44.2624, -44.2596, -44.2932]),\n",
       " 'comprdepth': array([0., 0., 0., ..., 0., 0., 0.])}"
      ]
     },
     "execution_count": 20,
     "metadata": {},
     "output_type": "execute_result"
    }
   ],
   "source": [
    "signal_2 = scipy.io.loadmat(\n",
    "    oocha_dir / f\"{file}.mat\",\n",
    "    simplify_cells=True,\n",
    ")[\"SIGNALS\"]\n",
    "for k, v in signal_2.items():\n",
    "    print(len(v))\n",
    "signal_2"
   ]
  },
  {
   "cell_type": "code",
   "execution_count": 21,
   "metadata": {},
   "outputs": [],
   "source": [
    "tick = 1\n",
    "\n",
    "for i, (epi, start, stop) in enumerate(\n",
    "    df.filter(pl.col(\"files\") == file).select([\"EPI\", \"SMP_start\", \"SMP_stop\"]).rows()\n",
    "):\n",
    "    rr.log(f\"ecg/{epi}/{i}\", rr.SeriesLine(color=color[epi], name=epi), timeless=True)\n",
    "    for value in signal[start:stop]:\n",
    "        rr.set_time_sequence(\"step\", tick)\n",
    "        rr.log(f\"ecg/{epi}/{i}\", rr.Scalar(value))  # , rr.SeriesLine(name=epi, color=color[epi]))\n",
    "        tick += 1\n",
    "\n",
    "\n",
    "# rec.show(width=1440, height=1080)"
   ]
  }
 ],
 "metadata": {
  "kernelspec": {
   "display_name": ".venv",
   "language": "python",
   "name": "python3"
  },
  "language_info": {
   "codemirror_mode": {
    "name": "ipython",
    "version": 3
   },
   "file_extension": ".py",
   "mimetype": "text/x-python",
   "name": "python",
   "nbconvert_exporter": "python",
   "pygments_lexer": "ipython3",
   "version": "3.11.8"
  }
 },
 "nbformat": 4,
 "nbformat_minor": 2
}
